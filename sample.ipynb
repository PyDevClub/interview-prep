{
 "cells": [
  {
   "cell_type": "markdown",
   "metadata": {},
   "source": [
    "# How do you find the missing number in a given integer array of 1 to 100?\n"
   ]
  },
  {
   "cell_type": "markdown",
   "metadata": {},
   "source": [
    "This can be done a few ways, first, we will use an inefficient, but easy to think of solution"
   ]
  },
  {
   "cell_type": "markdown",
   "metadata": {},
   "source": [
    "Lets set up the problem first, and make a method that randomly generates a list of the numbers 1-100"
   ]
  },
  {
   "cell_type": "markdown",
   "metadata": {},
   "source": [
    "import random\n",
    "my_list = [i for i in range(1, 100)]\n",
    "remove_me = random.choice(my_list)\n",
    "my_list.remove(remove_me)\n",
    "print(\"removed: \", remove_me)\n",
    "print(my_list)"
   ]
  },
  {
   "cell_type": "markdown",
   "metadata": {},
   "source": [
    "### inefficient brute force way"
   ]
  },
  {
   "cell_type": "code",
   "execution_count": 8,
   "metadata": {},
   "outputs": [
    {
     "name": "stdout",
     "output_type": "stream",
     "text": [
      "82\n"
     ]
    }
   ],
   "source": [
    "for i in range(1,100):\n",
    "    in_list = False\n",
    "    for j in my_list:\n",
    "        if i == j:\n",
    "            in_list = True\n",
    "    if not in_list:\n",
    "        print(i)"
   ]
  },
  {
   "cell_type": "markdown",
   "metadata": {},
   "source": [
    "### slightly shorter using python tricks"
   ]
  },
  {
   "cell_type": "code",
   "execution_count": 9,
   "metadata": {},
   "outputs": [
    {
     "data": {
      "text/plain": [
       "82"
      ]
     },
     "execution_count": 9,
     "metadata": {},
     "output_type": "execute_result"
    }
   ],
   "source": [
    "[i for i in range(1,100) if i not in my_list][0]"
   ]
  },
  {
   "cell_type": "markdown",
   "metadata": {},
   "source": [
    "### best possilble big O"
   ]
  },
  {
   "cell_type": "code",
   "execution_count": 12,
   "metadata": {},
   "outputs": [
    {
     "name": "stdout",
     "output_type": "stream",
     "text": [
      "82\n"
     ]
    }
   ],
   "source": [
    "arr = [1]+[0]*100\n",
    "for i in my_list:\n",
    "    arr[i] = 1\n",
    "for i in range(len(my_list)):\n",
    "    if arr[i] == 0:\n",
    "        print(i)"
   ]
  },
  {
   "cell_type": "markdown",
   "metadata": {},
   "source": [
    "# print all characters in a string that are next to themselves"
   ]
  },
  {
   "cell_type": "markdown",
   "metadata": {},
   "source": [
    "For example: \"aaaabcdeef\" should print out \"aaaaee\".\n"
   ]
  },
  {
   "cell_type": "code",
   "execution_count": 15,
   "metadata": {},
   "outputs": [
    {
     "name": "stdout",
     "output_type": "stream",
     "text": [
      "aaaaee\n",
      "ccc\n",
      "\n",
      "dd\n"
     ]
    }
   ],
   "source": [
    "def print_dups(my_string):\n",
    "    total = \"\"\n",
    "    for i in range(len(my_string)):\n",
    "        if (i > 0 and my_string[i] == my_string[i-1]) or (i < len(my_string)-1 and my_string[i] == my_string[i+1]):\n",
    "            total += my_string[i]\n",
    "    print(total)\n",
    "\n",
    "print_dups(\"aaaabcdeef\")\n",
    "print_dups(\"ccc\")\n",
    "print_dups(\"a\")\n",
    "print_dups(\"abcdd\")"
   ]
  },
  {
   "cell_type": "markdown",
   "metadata": {},
   "source": [
    "# How do you perform a binary search in a given array?\n",
    "\n",
    "This problem is easy algorithmically, but can be hard implementation wise. With Python though,it's quite short!"
   ]
  },
  {
   "cell_type": "code",
   "execution_count": 21,
   "metadata": {},
   "outputs": [
    {
     "name": "stdout",
     "output_type": "stream",
     "text": [
      "[1, 7, 11, 13, 14, 16, 23, 24, 27, 29, 31, 33, 36, 37, 41, 42, 43, 44, 49, 52, 53, 54, 56, 57, 59, 60, 63, 65, 67, 68, 69, 71, 72, 74, 77, 79, 80, 81, 82, 83, 85, 86, 87, 88, 89, 92, 94, 95, 98, 99]\n"
     ]
    }
   ],
   "source": [
    "my_list = [i for i in range(100)]\n",
    "random.shuffle(my_list)\n",
    "my_list = sorted(my_list[50:])\n",
    "print(my_list)"
   ]
  },
  {
   "cell_type": "code",
   "execution_count": 30,
   "metadata": {},
   "outputs": [
    {
     "name": "stdout",
     "output_type": "stream",
     "text": [
      "67\n",
      "25 50 81\n",
      "25 37 71\n",
      "25 31 67\n",
      "Found it! At index: 28\n"
     ]
    }
   ],
   "source": [
    "low = 0\n",
    "high = len(my_list)\n",
    "target = random.choice(my_list)\n",
    "print(target)\n",
    "\n",
    "while my_list[int((high+low)/2)] != target:\n",
    "    if my_list[int((high+low)/2)] <=target:\n",
    "        low = int((high+low)/2)\n",
    "    else:\n",
    "        high = int((high+low)/2)\n",
    "    print(low, high, my_list[int((high+low)/2)])\n",
    "    \n",
    "print(\"Found it! At index:\", int((high+low)/2))"
   ]
  },
  {
   "cell_type": "code",
   "execution_count": null,
   "metadata": {},
   "outputs": [],
   "source": []
  }
 ],
 "metadata": {
  "kernelspec": {
   "display_name": "Python 3",
   "language": "python",
   "name": "python3"
  },
  "language_info": {
   "codemirror_mode": {
    "name": "ipython",
    "version": 3
   },
   "file_extension": ".py",
   "mimetype": "text/x-python",
   "name": "python",
   "nbconvert_exporter": "python",
   "pygments_lexer": "ipython3",
   "version": "3.7.3"
  }
 },
 "nbformat": 4,
 "nbformat_minor": 2
}
